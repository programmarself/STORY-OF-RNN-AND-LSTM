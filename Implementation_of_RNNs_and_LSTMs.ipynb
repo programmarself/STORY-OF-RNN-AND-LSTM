{
  "nbformat": 4,
  "nbformat_minor": 0,
  "metadata": {
    "colab": {
      "provenance": []
    },
    "kernelspec": {
      "name": "python3",
      "display_name": "Python 3"
    },
    "language_info": {
      "name": "python"
    }
  },
  "cells": [
    {
      "cell_type": "markdown",
      "source": [
        "# **RNN & LSTM**\n",
        "# RNN (Recurrent Neural Network) & LSTM (Long Short-Term Memory)"
      ],
      "metadata": {
        "id": "4k2EC_Tl73Ob"
      }
    },
    {
      "cell_type": "markdown",
      "source": [
        "\n",
        "<h2 style=\"font-family: 'poppins'; font-weight: bold; color: Green;\">👨💻Author: Irfan Ullah Khan</h2>\n",
        "\n",
        "[![GitHub](https://img.shields.io/badge/GitHub-Profile-blue?style=for-the-badge&logo=github)](https://github.com/programmarself)\n",
        "[![Kaggle](https://img.shields.io/badge/Kaggle-Profile-blue?style=for-the-badge&logo=kaggle)](https://www.kaggle.com/programmarself)\n",
        "[![LinkedIn](https://img.shields.io/badge/LinkedIn-Profile-blue?style=for-the-badge&logo=linkedin)](https://www.linkedin.com/in/irfan-ullah-khan-4a2871208/)  \n",
        "\n",
        "[![YouTube](https://img.shields.io/badge/YouTube-Profile-red?style=for-the-badge&logo=youtube)](https://www.youtube.com/@irfanullahkhan7748)\n",
        "[![Email](https://img.shields.io/badge/Email-Contact%20Me-red?style=for-the-badge&logo=email)](mailto:programmarself@gmail.com)\n",
        "[![Website](https://img.shields.io/badge/Website-Contact%20Me-red?style=for-the-badge&logo=website)](https://datasciencetoyou.odoo.com)\n",
        "\n"
      ],
      "metadata": {
        "id": "nq0VON2D7Oaq"
      }
    },
    {
      "cell_type": "markdown",
      "source": [
        "# **Import Libraries**"
      ],
      "metadata": {
        "id": "8jezH41M8G6F"
      }
    },
    {
      "cell_type": "code",
      "execution_count": null,
      "metadata": {
        "id": "wDw3aB3YrkVK"
      },
      "outputs": [],
      "source": [
        "import numpy as np\n",
        "import tensorflow as tf\n",
        "import tensorflow.keras.models as models\n",
        "import tensorflow.keras.layers as layers\n",
        "from tensorflow.keras.preprocessing.text import Tokenizer\n",
        "from tensorflow.keras.preprocessing.sequence import pad_sequences"
      ]
    },
    {
      "cell_type": "markdown",
      "source": [
        "# **Sample data**"
      ],
      "metadata": {
        "id": "eY43Ljm-j1IL"
      }
    },
    {
      "cell_type": "code",
      "source": [
        "# Sample data\n",
        "sentences = [\n",
        "\"The cat slept on the windowsill, basking in the afternoon sun.\"\n",
        "\n",
        "\"She found a hidden note inside the old book.\"\n",
        "\n",
        "\"The coffee spilled, staining the tablecloth.\"\n",
        "\n",
        "\"The dog chased its tail in circles.\"\n",
        "\n",
        "\"An old man whistled a tune as he walked down the street.\"\n",
        "\n",
        "\"The cake was decorated with fresh strawberries and cream.\"\n",
        "\n",
        "\"He forgot his keys on the kitchen counter.\"\n",
        "\n",
        "\"The rain pitter-pattered against the rooftop all night.\"\n",
        "\n",
        "\"They laughed together, remembering their childhood adventures.\"\n",
        "\n",
        "\"The movie ended with a surprising plot twist.\"\n",
        "\n",
        "\"She wore a bright yellow scarf that caught everyone’s attention.\"\n",
        "\n",
        "\"The lighthouse stood tall against the stormy sea.\"\n",
        "\n",
        "\"He discovered a new hobby: collecting vintage postcards.\"\n",
        "\n",
        "\"The garden was full of blooming roses and lavender.\"\n",
        "\n",
        "\"The old clock on the wall ticked loudly in the quiet room.\"\n",
        "\n",
        "\"She hummed a melody while washing the dishes.\"\n",
        "\n",
        "\"The children built a fort out of blankets and pillows.\"\n",
        "\n",
        "\"A gentle breeze rustled the autumn leaves.\"\n",
        "\n",
        "\"He could hear the distant sound of a train whistle.\"\n",
        "\n",
        "\"The bookshop had a cozy reading nook by the fireplace.\"\n",
        "\n",
        "\"She danced gracefully across the stage in her new ballet shoes.\"\n",
        "\n",
        "\"The mountain view was breathtaking at sunrise.\"\n",
        "\n",
        "\"He made a wish while blowing out the candles on his birthday cake.\"\n",
        "\n",
        "\"The artist painted vibrant colors onto the canvas.\"\n",
        "\n",
        "\"The coffee shop had a welcoming aroma of freshly brewed beans.\"\n",
        "\n",
        "\"She found an old photograph in a dusty attic box.\"\n",
        "\n",
        "\"The wind chimes tinkled softly in the garden.\"\n",
        "\n",
        "\"He fixed the leaky faucet with a few twists of the wrench.\"\n",
        "\n",
        "\"The rainbows appeared after the storm had passed.\"\n",
        "\n",
        "\"The chef prepared a gourmet meal with exquisite precision.\"\n",
        "\n",
        "\"The little boat bobbed gently on the lake.\"\n",
        "\n",
        "\"She received a letter from an old friend she hadn’t seen in years.\"\n",
        "\n",
        "\"The concert was a spectacular display of lights and sound.\"\n",
        "\n",
        "\"The kitten played with a ball of yarn on the living room floor.\"\n",
        "\n",
        "\"The bakery window was filled with colorful pastries and cakes.\"\n",
        "\n",
        "\"He wore his favorite sweater even though it was warm outside.\"\n",
        "\n",
        "\"The stars shone brightly in the clear night sky.\"\n",
        "\n",
        "\"She sang a lullaby to her baby before bedtime.\"\n",
        "\n",
        "\"The wind carried the scent of fresh pine through the forest.\"\n",
        "\n",
        "\"The old man told stories of his youth to the fascinated children.\"\n",
        "\n",
        "\"She found a beautiful seashell on the beach.\"\n",
        "\n",
        "\"The library was silent except for the sound of turning pages.\"\n",
        "\n",
        "\"He sketched a portrait of his best friend in his notebook.\"\n",
        "\n",
        "\"The squirrel darted across the yard, clutching an acorn.\"\n",
        "\n",
        "\"The fog rolled in, enveloping the landscape in mystery.\"\n",
        "\n",
        "\"She practiced her guitar every evening on the porch.\"\n",
        "\n",
        "\"The fire crackled and popped in the fireplace.\"\n",
        "\n",
        "\"The road trip took them through stunning mountain passes.\"\n",
        "\n",
        "\"The old theater had ornate architecture and a grand chandelier.\"\n",
        "\n",
        "\"She carefully wrapped the gift with shiny paper and a bow.\"\n",
        "\n",
        "\"The snow covered the ground like a soft white blanket.\"\n",
        "\n",
        "\"He enjoyed a quiet afternoon of fishing by the river.\"\n",
        "\n",
        "\"The artist’s studio was cluttered with paintbrushes and canvases.\"\n",
        "\n",
        "\"The baby giggled as she played with her toys.\"\n",
        "\n",
        "\"The street was lined with charming cafes and boutique shops.\"\n",
        "\n",
        "\"He cooked a hearty stew on a cold winter’s day.\"\n",
        "\n",
        "\"The wind rustled the pages of the open book.\"\n",
        "\n",
        "\"The park was filled with the sounds of children playing.\"\n",
        "\n",
        "\"She enjoyed a relaxing bath with lavender-scented candles.\"\n",
        "\n",
        "\"The old barn had a rustic charm and a creaky door.\"\n",
        "\n",
        "\"The train journey offered scenic views of rolling hills.\"\n",
        "\n",
        "\"She wore a necklace that had been passed down through generations.\"\n",
        "\n",
        "\"The museum displayed ancient artifacts and priceless paintings.\"\n",
        "\n",
        "\"He looked out the window and saw a colorful hot air balloon.\"\n",
        "\n",
        "\"The scent of freshly cut grass filled the air.\"\n",
        "\n",
        "\"The dog barked excitedly at the sight of its owner.\"\n",
        "\n",
        "\"The recipe called for a pinch of salt and a dash of pepper.\"\n",
        "\n",
        "\"She admired the intricate design of the stained glass window.\"\n",
        "\n",
        "\"The ice cream melted quickly under the hot sun.\"\n",
        "\n",
        "\"The children gathered around the storyteller for a magical tale.\"\n",
        "\n",
        "\"The old map showed hidden treasures and forgotten lands.\"\n",
        "\n",
        "\"He planted seeds in the garden and hoped for a bountiful harvest.\"\n",
        "\n",
        "\"The bell rang, signaling the end of the school day.\"\n",
        "\n",
        "\"She decorated her room with colorful posters and fairy lights.\"\n",
        "\n",
        "\"The aroma of freshly baked bread wafted through the house.\"\n",
        "\n",
        "\"He enjoyed reading detective novels on rainy weekends.\"\n",
        "\n",
        "\"The picnic was complete with sandwiches, fruit, and lemonade.\"\n",
        "\n",
        "\"The city skyline looked majestic against the setting sun.\"\n",
        "\n",
        "\"She wrote a heartfelt letter to her future self.\"\n",
        "\n",
        "\"The fireflies twinkled like tiny stars in the evening dusk.\"\n",
        "\n",
        "\"The playground was filled with the laughter of children.\"\n",
        "\n",
        "\"He carefully folded the map and tucked it into his pocket.\"\n",
        "\n",
        "\"The clouds formed whimsical shapes in the blue sky.\"\n",
        "\n",
        "\"She found a cozy spot by the lake to read her book.\"\n",
        "\n",
        "\"The bicycle ride through the park was invigorating.\"\n",
        "\n",
        "\"The old piano in the corner was covered in dust but still beautiful.\"\n",
        "\n",
        "\"The garden gnome had a mischievous smile.\"\n",
        "\n",
        "\"The sand felt warm beneath her feet as she walked along the beach.\"\n",
        "\n",
        "\"The snowflakes fell gently, creating a winter wonderland.\"\n",
        "\n",
        "\"He practiced his magic tricks in front of the mirror.\"\n",
        "\n",
        "\"The castle on the hill looked majestic in the morning mist.\"\n",
        "\n",
        "\"She carefully painted her nails a vibrant shade of red.\"\n",
        "\n",
        "\"The sunset painted the sky with hues of orange and pink.\"\n",
        "\n",
        "\"The dog curled up next to the fire and fell asleep.\"\n",
        "\n",
        "\"The old library had towering shelves filled with books.\"\n",
        "\n",
        "\"She wore a hat decorated with colorful feathers.\"\n",
        "\n",
        "\"The melody of the song lingered in her mind throughout the day.\"\n",
        "\n",
        "\"The garden was a haven for birds and butterflies.\"\n",
        "\n",
        "\"He discovered an interesting rock while hiking in the mountains.\"\n",
        "\n",
        "\"The vintage car had been lovingly restored to its former glory.\"\n",
        "]"
      ],
      "metadata": {
        "id": "NcpRXs2wtZ2A"
      },
      "execution_count": null,
      "outputs": []
    },
    {
      "cell_type": "markdown",
      "source": [
        "# **Tokenization & Preprocessing of Data**"
      ],
      "metadata": {
        "id": "9PUKiDwykEvR"
      }
    },
    {
      "cell_type": "code",
      "source": [
        "# Initialize the tokenizer\n",
        "tokenizer = Tokenizer()\n",
        "\n",
        "# Fit the tokenizer on the sentences\n",
        "tokenizer.fit_on_texts(sentences)\n",
        "\n",
        "# Get the total number of unique words (plus one for padding)\n",
        "total_words = len(tokenizer.word_index) + 1\n",
        "print(total_words)\n",
        "print(tokenizer.word_index)\n",
        "\n",
        "# Initialize a list to hold input sequences\n",
        "input_sequences = []\n",
        "\n",
        "# iterate over the sentences\n",
        "for line in sentences:\n",
        "    # Convert the sentence into a  sequence of integers\n",
        "    token_list = tokenizer.texts_to_sequences([line])[0]\n",
        "   # print(token_list)\n",
        "   # Create n-gram sequences from the sentence\n",
        "    for i in range(1, len(token_list)):\n",
        "        n_gram_sequence = token_list[:i+1]\n",
        "        input_sequences.append(n_gram_sequence)\n",
        "\n",
        "# Determine the maximum length sequence\n",
        "max_sequence_len = max([len(x) for x in input_sequences])\n",
        "\n",
        "# Pad sequences to ensure they are all the same length\n",
        "input_sequences = np.array(pad_sequences(input_sequences, maxlen=max_sequence_len, padding='pre'))\n",
        "print(input_sequences)\n"
      ],
      "metadata": {
        "colab": {
          "base_uri": "https://localhost:8080/"
        },
        "id": "Vqn_YHUHvvCg",
        "outputId": "db6250cd-f756-44a0-8259-cb28d3ee5252"
      },
      "execution_count": null,
      "outputs": [
        {
          "output_type": "stream",
          "name": "stdout",
          "text": [
            "487\n",
            "{'the': 1, 'a': 2, 'of': 3, 'and': 4, 'in': 5, 'she': 6, 'with': 7, 'he': 8, 'was': 9, 'on': 10, 'old': 11, 'her': 12, 'had': 13, 'his': 14, 'to': 15, 'an': 16, 'garden': 17, 'children': 18, 'filled': 19, 'through': 20, 'for': 21, 'found': 22, 'wore': 23, 'colorful': 24, 'sun': 25, 'book': 26, 'dog': 27, 'its': 28, 'as': 29, 'decorated': 30, 'against': 31, 'room': 32, 'while': 33, 'out': 34, 'sound': 35, 'by': 36, 'painted': 37, 'freshly': 38, 'wind': 39, 'window': 40, 'sky': 41, 'carefully': 42, 'enjoyed': 43, 'day': 44, 'looked': 45, 'afternoon': 46, 'hidden': 47, 'coffee': 48, 'man': 49, 'walked': 50, 'down': 51, 'street': 52, 'cake': 53, 'fresh': 54, 'cream': 55, 'night': 56, 'that': 57, 'discovered': 58, 'new': 59, 'vintage': 60, 'lavender': 61, 'quiet': 62, 'melody': 63, 'rustled': 64, 'train': 65, 'cozy': 66, 'reading': 67, 'fireplace': 68, 'across': 69, 'mountain': 70, 'at': 71, 'candles': 72, 'vibrant': 73, 'aroma': 74, 'passed': 75, 'gently': 76, 'lake': 77, 'letter': 78, 'friend': 79, 'lights': 80, 'played': 81, 'it': 82, 'warm': 83, 'stars': 84, 'baby': 85, 'scent': 86, 'beautiful': 87, 'beach': 88, 'library': 89, 'pages': 90, 'practiced': 91, 'evening': 92, 'fire': 93, 'covered': 94, 'like': 95, 'park': 96, 'been': 97, 'hot': 98, 'air': 99, 'map': 100, 'majestic': 101, 'fell': 102, 'cat': 103, 'slept': 104, 'windowsill': 105, 'basking': 106, 'note': 107, 'inside': 108, 'spilled': 109, 'staining': 110, 'tablecloth': 111, 'chased': 112, 'tail': 113, 'circles': 114, 'whistled': 115, 'tune': 116, 'strawberries': 117, 'forgot': 118, 'keys': 119, 'kitchen': 120, 'counter': 121, 'rain': 122, 'pitter': 123, 'pattered': 124, 'rooftop': 125, 'all': 126, 'they': 127, 'laughed': 128, 'together': 129, 'remembering': 130, 'their': 131, 'childhood': 132, 'adventures': 133, 'movie': 134, 'ended': 135, 'surprising': 136, 'plot': 137, 'twist': 138, 'bright': 139, 'yellow': 140, 'scarf': 141, 'caught': 142, 'everyone’s': 143, 'attention': 144, 'lighthouse': 145, 'stood': 146, 'tall': 147, 'stormy': 148, 'sea': 149, 'hobby': 150, 'collecting': 151, 'postcards': 152, 'full': 153, 'blooming': 154, 'roses': 155, 'clock': 156, 'wall': 157, 'ticked': 158, 'loudly': 159, 'hummed': 160, 'washing': 161, 'dishes': 162, 'built': 163, 'fort': 164, 'blankets': 165, 'pillows': 166, 'gentle': 167, 'breeze': 168, 'autumn': 169, 'leaves': 170, 'could': 171, 'hear': 172, 'distant': 173, 'whistle': 174, 'bookshop': 175, 'nook': 176, 'danced': 177, 'gracefully': 178, 'stage': 179, 'ballet': 180, 'shoes': 181, 'view': 182, 'breathtaking': 183, 'sunrise': 184, 'made': 185, 'wish': 186, 'blowing': 187, 'birthday': 188, 'artist': 189, 'colors': 190, 'onto': 191, 'canvas': 192, 'shop': 193, 'welcoming': 194, 'brewed': 195, 'beans': 196, 'photograph': 197, 'dusty': 198, 'attic': 199, 'box': 200, 'chimes': 201, 'tinkled': 202, 'softly': 203, 'fixed': 204, 'leaky': 205, 'faucet': 206, 'few': 207, 'twists': 208, 'wrench': 209, 'rainbows': 210, 'appeared': 211, 'after': 212, 'storm': 213, 'chef': 214, 'prepared': 215, 'gourmet': 216, 'meal': 217, 'exquisite': 218, 'precision': 219, 'little': 220, 'boat': 221, 'bobbed': 222, 'received': 223, 'from': 224, 'hadn’t': 225, 'seen': 226, 'years': 227, 'concert': 228, 'spectacular': 229, 'display': 230, 'kitten': 231, 'ball': 232, 'yarn': 233, 'living': 234, 'floor': 235, 'bakery': 236, 'pastries': 237, 'cakes': 238, 'favorite': 239, 'sweater': 240, 'even': 241, 'though': 242, 'outside': 243, 'shone': 244, 'brightly': 245, 'clear': 246, 'sang': 247, 'lullaby': 248, 'before': 249, 'bedtime': 250, 'carried': 251, 'pine': 252, 'forest': 253, 'told': 254, 'stories': 255, 'youth': 256, 'fascinated': 257, 'seashell': 258, 'silent': 259, 'except': 260, 'turning': 261, 'sketched': 262, 'portrait': 263, 'best': 264, 'notebook': 265, 'squirrel': 266, 'darted': 267, 'yard': 268, 'clutching': 269, 'acorn': 270, 'fog': 271, 'rolled': 272, 'enveloping': 273, 'landscape': 274, 'mystery': 275, 'guitar': 276, 'every': 277, 'porch': 278, 'crackled': 279, 'popped': 280, 'road': 281, 'trip': 282, 'took': 283, 'them': 284, 'stunning': 285, 'passes': 286, 'theater': 287, 'ornate': 288, 'architecture': 289, 'grand': 290, 'chandelier': 291, 'wrapped': 292, 'gift': 293, 'shiny': 294, 'paper': 295, 'bow': 296, 'snow': 297, 'ground': 298, 'soft': 299, 'white': 300, 'blanket': 301, 'fishing': 302, 'river': 303, 'artist’s': 304, 'studio': 305, 'cluttered': 306, 'paintbrushes': 307, 'canvases': 308, 'giggled': 309, 'toys': 310, 'lined': 311, 'charming': 312, 'cafes': 313, 'boutique': 314, 'shops': 315, 'cooked': 316, 'hearty': 317, 'stew': 318, 'cold': 319, 'winter’s': 320, 'open': 321, 'sounds': 322, 'playing': 323, 'relaxing': 324, 'bath': 325, 'scented': 326, 'barn': 327, 'rustic': 328, 'charm': 329, 'creaky': 330, 'door': 331, 'journey': 332, 'offered': 333, 'scenic': 334, 'views': 335, 'rolling': 336, 'hills': 337, 'necklace': 338, 'generations': 339, 'museum': 340, 'displayed': 341, 'ancient': 342, 'artifacts': 343, 'priceless': 344, 'paintings': 345, 'saw': 346, 'balloon': 347, 'cut': 348, 'grass': 349, 'barked': 350, 'excitedly': 351, 'sight': 352, 'owner': 353, 'recipe': 354, 'called': 355, 'pinch': 356, 'salt': 357, 'dash': 358, 'pepper': 359, 'admired': 360, 'intricate': 361, 'design': 362, 'stained': 363, 'glass': 364, 'ice': 365, 'melted': 366, 'quickly': 367, 'under': 368, 'gathered': 369, 'around': 370, 'storyteller': 371, 'magical': 372, 'tale': 373, 'showed': 374, 'treasures': 375, 'forgotten': 376, 'lands': 377, 'planted': 378, 'seeds': 379, 'hoped': 380, 'bountiful': 381, 'harvest': 382, 'bell': 383, 'rang': 384, 'signaling': 385, 'end': 386, 'school': 387, 'posters': 388, 'fairy': 389, 'baked': 390, 'bread': 391, 'wafted': 392, 'house': 393, 'detective': 394, 'novels': 395, 'rainy': 396, 'weekends': 397, 'picnic': 398, 'complete': 399, 'sandwiches': 400, 'fruit': 401, 'lemonade': 402, 'city': 403, 'skyline': 404, 'setting': 405, 'wrote': 406, 'heartfelt': 407, 'future': 408, 'self': 409, 'fireflies': 410, 'twinkled': 411, 'tiny': 412, 'dusk': 413, 'playground': 414, 'laughter': 415, 'folded': 416, 'tucked': 417, 'into': 418, 'pocket': 419, 'clouds': 420, 'formed': 421, 'whimsical': 422, 'shapes': 423, 'blue': 424, 'spot': 425, 'read': 426, 'bicycle': 427, 'ride': 428, 'invigorating': 429, 'piano': 430, 'corner': 431, 'dust': 432, 'but': 433, 'still': 434, 'gnome': 435, 'mischievous': 436, 'smile': 437, 'sand': 438, 'felt': 439, 'beneath': 440, 'feet': 441, 'along': 442, 'snowflakes': 443, 'creating': 444, 'winter': 445, 'wonderland': 446, 'magic': 447, 'tricks': 448, 'front': 449, 'mirror': 450, 'castle': 451, 'hill': 452, 'morning': 453, 'mist': 454, 'nails': 455, 'shade': 456, 'red': 457, 'sunset': 458, 'hues': 459, 'orange': 460, 'pink': 461, 'curled': 462, 'up': 463, 'next': 464, 'asleep': 465, 'towering': 466, 'shelves': 467, 'books': 468, 'hat': 469, 'feathers': 470, 'song': 471, 'lingered': 472, 'mind': 473, 'throughout': 474, 'haven': 475, 'birds': 476, 'butterflies': 477, 'interesting': 478, 'rock': 479, 'hiking': 480, 'mountains': 481, 'car': 482, 'lovingly': 483, 'restored': 484, 'former': 485, 'glory': 486}\n",
            "[[  0   0   0 ...   0   1 103]\n",
            " [  0   0   0 ...   1 103 104]\n",
            " [  0   0   0 ... 103 104  10]\n",
            " ...\n",
            " [  0   0   1 ... 484  15  28]\n",
            " [  0   1 103 ...  15  28 485]\n",
            " [  1 103 104 ...  28 485 486]]\n"
          ]
        }
      ]
    },
    {
      "cell_type": "markdown",
      "source": [
        "# **Data Preparation:**\n",
        "\n",
        "\n"
      ],
      "metadata": {
        "id": "dL3N-BRJ7lqY"
      }
    },
    {
      "cell_type": "code",
      "source": [
        "# Split the data into inputs and labels\n",
        "\n",
        "# Inputs: All elements of the sequences except the one\n",
        "X=input_sequences[:,:-1]\n",
        "print(\"Input Data:\",X)\n",
        "\n",
        "# Labels: The last element each  sequences\n",
        "y=input_sequences[:,-1]\n",
        "# print(\"Labels:\",y)\n",
        "\n",
        "# Convert the labels to one-hot encoding format\n",
        "y = tf.keras.utils.to_categorical(y, num_classes=total_words)\n",
        "# print(\"one hot encoded Vector: \",y)"
      ],
      "metadata": {
        "colab": {
          "base_uri": "https://localhost:8080/"
        },
        "id": "M1CESa8R7tco",
        "outputId": "9ae005df-0a71-4506-a034-c96711e21d35"
      },
      "execution_count": null,
      "outputs": [
        {
          "output_type": "stream",
          "name": "stdout",
          "text": [
            "Input Data: [[  0   0   0 ...   0   0   1]\n",
            " [  0   0   0 ...   0   1 103]\n",
            " [  0   0   0 ...   1 103 104]\n",
            " ...\n",
            " [  0   0   1 ... 483 484  15]\n",
            " [  0   1 103 ... 484  15  28]\n",
            " [  1 103 104 ...  15  28 485]]\n"
          ]
        }
      ]
    },
    {
      "cell_type": "markdown",
      "source": [
        "# **Defining the Model Architecture:**\n",
        "**Sequential Model:** A linear stack of layers./\n",
        "\n",
        "**Embedding Layer:**/\n",
        "**SimpleRNN Layer:**\n"
      ],
      "metadata": {
        "id": "9giYsa5eAnt4"
      }
    },
    {
      "cell_type": "code",
      "source": [
        "import numpy as np\n",
        "import tensorflow as tf\n",
        "from tensorflow.keras.models import Sequential\n",
        "from tensorflow.keras.layers import Embedding, SimpleRNN, Dense\n",
        "\n",
        "# ... (rest of the code remains the same)\n",
        "\n",
        "# Define the RNN\n",
        "\n",
        "# Sequential model allows stacking layers in a linear fashion\n",
        "model = Sequential([Embedding(total_words, 10, input_length=max_sequence_len-1),\n",
        "\n",
        "# SimpleRNN layer with 20 hidden units,which processes the sequence\n",
        "SimpleRNN(30),\n",
        "\n",
        "# Dense output layer with softmax activation function\n",
        "# Output dimension: total number of words (for multi-class classification)\n",
        "Dense(total_words, activation='softmax')\n",
        "])"
      ],
      "metadata": {
        "colab": {
          "base_uri": "https://localhost:8080/"
        },
        "id": "HAlV69lLNGhU",
        "outputId": "ea6105df-36c4-4b06-c642-2338d29be9a1"
      },
      "execution_count": null,
      "outputs": [
        {
          "output_type": "stream",
          "name": "stderr",
          "text": [
            "/usr/local/lib/python3.10/dist-packages/keras/src/layers/core/embedding.py:90: UserWarning: Argument `input_length` is deprecated. Just remove it.\n",
            "  warnings.warn(\n"
          ]
        }
      ]
    },
    {
      "cell_type": "markdown",
      "source": [
        "# **Compile the Model**"
      ],
      "metadata": {
        "id": "EUPfSlf_wjzD"
      }
    },
    {
      "cell_type": "code",
      "source": [
        "# Compile the model\n",
        "model.compile(loss='categorical_crossentropy', optimizer='adam', metrics=['accuracy'])"
      ],
      "metadata": {
        "id": "_3U5gsZqNgBD"
      },
      "execution_count": null,
      "outputs": []
    },
    {
      "cell_type": "markdown",
      "source": [
        "# **Train the Model**"
      ],
      "metadata": {
        "id": "vtHJ24g5wqQZ"
      }
    },
    {
      "cell_type": "code",
      "source": [
        "# Train the model\n",
        "model.fit(X, y, epochs=10, verbose=1)"
      ],
      "metadata": {
        "colab": {
          "base_uri": "https://localhost:8080/"
        },
        "id": "WEbLNyB7OGWM",
        "outputId": "2ba77e4c-0f4c-4236-af1a-d8bcdc9b71dc"
      },
      "execution_count": null,
      "outputs": [
        {
          "output_type": "stream",
          "name": "stdout",
          "text": [
            "Epoch 1/10\n",
            "\u001b[1m31/31\u001b[0m \u001b[32m━━━━━━━━━━━━━━━━━━━━\u001b[0m\u001b[37m\u001b[0m \u001b[1m10s\u001b[0m 260ms/step - accuracy: 0.0070 - loss: 6.1734\n",
            "Epoch 2/10\n",
            "\u001b[1m31/31\u001b[0m \u001b[32m━━━━━━━━━━━━━━━━━━━━\u001b[0m\u001b[37m\u001b[0m \u001b[1m9s\u001b[0m 214ms/step - accuracy: 0.1204 - loss: 6.0234\n",
            "Epoch 3/10\n",
            "\u001b[1m31/31\u001b[0m \u001b[32m━━━━━━━━━━━━━━━━━━━━\u001b[0m\u001b[37m\u001b[0m \u001b[1m11s\u001b[0m 224ms/step - accuracy: 0.1375 - loss: 5.7223\n",
            "Epoch 4/10\n",
            "\u001b[1m31/31\u001b[0m \u001b[32m━━━━━━━━━━━━━━━━━━━━\u001b[0m\u001b[37m\u001b[0m \u001b[1m9s\u001b[0m 284ms/step - accuracy: 0.1435 - loss: 5.3785\n",
            "Epoch 5/10\n",
            "\u001b[1m31/31\u001b[0m \u001b[32m━━━━━━━━━━━━━━━━━━━━\u001b[0m\u001b[37m\u001b[0m \u001b[1m8s\u001b[0m 223ms/step - accuracy: 0.1460 - loss: 5.3086\n",
            "Epoch 6/10\n",
            "\u001b[1m31/31\u001b[0m \u001b[32m━━━━━━━━━━━━━━━━━━━━\u001b[0m\u001b[37m\u001b[0m \u001b[1m8s\u001b[0m 259ms/step - accuracy: 0.1313 - loss: 5.3102\n",
            "Epoch 7/10\n",
            "\u001b[1m31/31\u001b[0m \u001b[32m━━━━━━━━━━━━━━━━━━━━\u001b[0m\u001b[37m\u001b[0m \u001b[1m9s\u001b[0m 284ms/step - accuracy: 0.1280 - loss: 5.3302\n",
            "Epoch 8/10\n",
            "\u001b[1m31/31\u001b[0m \u001b[32m━━━━━━━━━━━━━━━━━━━━\u001b[0m\u001b[37m\u001b[0m \u001b[1m7s\u001b[0m 215ms/step - accuracy: 0.1293 - loss: 5.3252\n",
            "Epoch 9/10\n",
            "\u001b[1m31/31\u001b[0m \u001b[32m━━━━━━━━━━━━━━━━━━━━\u001b[0m\u001b[37m\u001b[0m \u001b[1m12s\u001b[0m 261ms/step - accuracy: 0.1223 - loss: 5.2335\n",
            "Epoch 10/10\n",
            "\u001b[1m31/31\u001b[0m \u001b[32m━━━━━━━━━━━━━━━━━━━━\u001b[0m\u001b[37m\u001b[0m \u001b[1m11s\u001b[0m 282ms/step - accuracy: 0.1324 - loss: 5.3527\n"
          ]
        },
        {
          "output_type": "execute_result",
          "data": {
            "text/plain": [
              "<keras.src.callbacks.history.History at 0x7c7961c7c040>"
            ]
          },
          "metadata": {},
          "execution_count": 7
        }
      ]
    },
    {
      "cell_type": "markdown",
      "source": [
        "# **Next Word Predication**\n",
        "**Seed Text Converstion:**\\\n",
        "**Padding:** \\\n",
        "**Predication:**\\\n",
        "**Selection and Update:**\\\n",
        "**Iterative Predictioin:**\n"
      ],
      "metadata": {
        "id": "SEiRRJTKHmgl"
      }
    },
    {
      "cell_type": "code",
      "source": [
        "# Function to predict the next word(s) given a seed text\n",
        "def predict_next_word(seed_text, next_words=1):\n",
        "    for _ in range(next_words):\n",
        "        # Convert the seed text into a sequence of integers\n",
        "        token_list = tokenizer.texts_to_sequences([seed_text])[0]\n",
        "\n",
        "        # Pad the sequence to match the input length required by the model\n",
        "        token_list= pad_sequences([token_list], maxlen=max_sequence_len-1, padding='pre')\n",
        "\n",
        "        # Predict the probability distribution of the next word\n",
        "        predicted = model.predict(token_list, verbose=0)\n",
        "\n",
        "        # Get the index of the predicted word ,with the highest probability\n",
        "        predicted_word_index = np.argmax(predicted, axis=1)[0]\n",
        "\n",
        "        #Retrieve the word corresponding to the predicted index\n",
        "        predicted_word=tokenizer.index_word[predicted_word_index]\n",
        "\n",
        "        # Append the predicted word to the seed text\n",
        "        seed_text += \" \" + predicted_word\n",
        "        # Return the updated seed text with the predicted word\n",
        "        return seed_text\n",
        "\n"
      ],
      "metadata": {
        "id": "Zo9gMazIH2iW"
      },
      "execution_count": null,
      "outputs": []
    },
    {
      "cell_type": "markdown",
      "source": [
        "![output layer.png](data:image/png;base64,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)"
      ],
      "metadata": {
        "id": "WFUpo3RDM-eY"
      }
    },
    {
      "cell_type": "code",
      "source": [
        "# Test the prediction function with  a sample input\n",
        "print(predict_next_word('Macine Learning'))"
      ],
      "metadata": {
        "colab": {
          "base_uri": "https://localhost:8080/"
        },
        "id": "aToNmm5OJNa6",
        "outputId": "26dd9a6e-8b29-42fa-844d-5e682f6ac7f2"
      },
      "execution_count": null,
      "outputs": [
        {
          "output_type": "stream",
          "name": "stdout",
          "text": [
            "Macine Learning the\n"
          ]
        }
      ]
    },
    {
      "cell_type": "markdown",
      "source": [
        "# **Building a Long Short-Term Memory(LSTM)**"
      ],
      "metadata": {
        "id": "S1vdhZ6SO4ZS"
      }
    },
    {
      "cell_type": "code",
      "source": [
        "# Import necessary libraries\n",
        "import pandas as pd\n",
        "import numpy as np\n",
        "import tensorflow as tf\n",
        "from tensorflow.keras.models import Sequential\n",
        "from tensorflow.keras.layers import LSTM, Dense, Embedding\n",
        "from tensorflow.keras.preprocessing.text import Tokenizer\n",
        "from tensorflow.keras.preprocessing.sequence import pad_sequences\n"
      ],
      "metadata": {
        "id": "tS0086xHJNzQ"
      },
      "execution_count": null,
      "outputs": []
    },
    {
      "cell_type": "markdown",
      "source": [
        "# **Sample Data**"
      ],
      "metadata": {
        "id": "fCiEyxB2lqWn"
      }
    },
    {
      "cell_type": "code",
      "source": [
        "# Sample data\n",
        "sentences = [\n",
        "\"The cat slept on the windowsill, basking in the afternoon sun.\"\n",
        "\n",
        "\"She found a hidden note inside the old book.\"\n",
        "\n",
        "\"The coffee spilled, staining the tablecloth.\"\n",
        "\n",
        "\"The dog chased its tail in circles.\"\n",
        "\n",
        "\"An old man whistled a tune as he walked down the street.\"\n",
        "\n",
        "\"The cake was decorated with fresh strawberries and cream.\"\n",
        "\n",
        "\"He forgot his keys on the kitchen counter.\"\n",
        "\n",
        "\"The rain pitter-pattered against the rooftop all night.\"\n",
        "\n",
        "\"They laughed together, remembering their childhood adventures.\"\n",
        "\n",
        "\"The movie ended with a surprising plot twist.\"\n",
        "\n",
        "\"She wore a bright yellow scarf that caught everyone’s attention.\"\n",
        "\n",
        "\"The lighthouse stood tall against the stormy sea.\"\n",
        "\n",
        "\"He discovered a new hobby: collecting vintage postcards.\"\n",
        "\n",
        "\"The garden was full of blooming roses and lavender.\"\n",
        "\n",
        "\"The old clock on the wall ticked loudly in the quiet room.\"\n",
        "\n",
        "\"She hummed a melody while washing the dishes.\"\n",
        "\n",
        "\"The children built a fort out of blankets and pillows.\"\n",
        "\n",
        "\"A gentle breeze rustled the autumn leaves.\"\n",
        "\n",
        "\"He could hear the distant sound of a train whistle.\"\n",
        "\n",
        "\"The bookshop had a cozy reading nook by the fireplace.\"\n",
        "\n",
        "\"She danced gracefully across the stage in her new ballet shoes.\"\n",
        "\n",
        "\"The mountain view was breathtaking at sunrise.\"\n",
        "\n",
        "\"He made a wish while blowing out the candles on his birthday cake.\"\n",
        "\n",
        "\"The artist painted vibrant colors onto the canvas.\"\n",
        "\n",
        "\"The coffee shop had a welcoming aroma of freshly brewed beans.\"\n",
        "\n",
        "\"She found an old photograph in a dusty attic box.\"\n",
        "\n",
        "\"The wind chimes tinkled softly in the garden.\"\n",
        "\n",
        "\"He fixed the leaky faucet with a few twists of the wrench.\"\n",
        "\n",
        "\"The rainbows appeared after the storm had passed.\"\n",
        "\n",
        "\"The chef prepared a gourmet meal with exquisite precision.\"\n",
        "\n",
        "\"The little boat bobbed gently on the lake.\"\n",
        "\n",
        "\"She received a letter from an old friend she hadn’t seen in years.\"\n",
        "\n",
        "\"The concert was a spectacular display of lights and sound.\"\n",
        "\n",
        "\"The kitten played with a ball of yarn on the living room floor.\"\n",
        "\n",
        "\"The bakery window was filled with colorful pastries and cakes.\"\n",
        "\n",
        "\"He wore his favorite sweater even though it was warm outside.\"\n",
        "\n",
        "\"The stars shone brightly in the clear night sky.\"\n",
        "\n",
        "\"She sang a lullaby to her baby before bedtime.\"\n",
        "\n",
        "\"The wind carried the scent of fresh pine through the forest.\"\n",
        "\n",
        "\"The old man told stories of his youth to the fascinated children.\"\n",
        "\n",
        "\"She found a beautiful seashell on the beach.\"\n",
        "\n",
        "\"The library was silent except for the sound of turning pages.\"\n",
        "\n",
        "\"He sketched a portrait of his best friend in his notebook.\"\n",
        "\n",
        "\"The squirrel darted across the yard, clutching an acorn.\"\n",
        "\n",
        "\"The fog rolled in, enveloping the landscape in mystery.\"\n",
        "\n",
        "\"She practiced her guitar every evening on the porch.\"\n",
        "\n",
        "\"The fire crackled and popped in the fireplace.\"\n",
        "\n",
        "\"The road trip took them through stunning mountain passes.\"\n",
        "\n",
        "\"The old theater had ornate architecture and a grand chandelier.\"\n",
        "\n",
        "\"She carefully wrapped the gift with shiny paper and a bow.\"\n",
        "\n",
        "\"The snow covered the ground like a soft white blanket.\"\n",
        "\n",
        "\"He enjoyed a quiet afternoon of fishing by the river.\"\n",
        "\n",
        "\"The artist’s studio was cluttered with paintbrushes and canvases.\"\n",
        "\n",
        "\"The baby giggled as she played with her toys.\"\n",
        "\n",
        "\"The street was lined with charming cafes and boutique shops.\"\n",
        "\n",
        "\"He cooked a hearty stew on a cold winter’s day.\"\n",
        "\n",
        "\"The wind rustled the pages of the open book.\"\n",
        "\n",
        "\"The park was filled with the sounds of children playing.\"\n",
        "\n",
        "\"She enjoyed a relaxing bath with lavender-scented candles.\"\n",
        "\n",
        "\"The old barn had a rustic charm and a creaky door.\"\n",
        "\n",
        "\"The train journey offered scenic views of rolling hills.\"\n",
        "\n",
        "\"She wore a necklace that had been passed down through generations.\"\n",
        "\n",
        "\"The museum displayed ancient artifacts and priceless paintings.\"\n",
        "\n",
        "\"He looked out the window and saw a colorful hot air balloon.\"\n",
        "\n",
        "\"The scent of freshly cut grass filled the air.\"\n",
        "\n",
        "\"The dog barked excitedly at the sight of its owner.\"\n",
        "\n",
        "\"The recipe called for a pinch of salt and a dash of pepper.\"\n",
        "\n",
        "\"She admired the intricate design of the stained glass window.\"\n",
        "\n",
        "\"The ice cream melted quickly under the hot sun.\"\n",
        "\n",
        "\"The children gathered around the storyteller for a magical tale.\"\n",
        "\n",
        "\"The old map showed hidden treasures and forgotten lands.\"\n",
        "\n",
        "\"He planted seeds in the garden and hoped for a bountiful harvest.\"\n",
        "\n",
        "\"The bell rang, signaling the end of the school day.\"\n",
        "\n",
        "\"She decorated her room with colorful posters and fairy lights.\"\n",
        "\n",
        "\"The aroma of freshly baked bread wafted through the house.\"\n",
        "\n",
        "\"He enjoyed reading detective novels on rainy weekends.\"\n",
        "\n",
        "\"The picnic was complete with sandwiches, fruit, and lemonade.\"\n",
        "\n",
        "\"The city skyline looked majestic against the setting sun.\"\n",
        "\n",
        "\"She wrote a heartfelt letter to her future self.\"\n",
        "\n",
        "\"The fireflies twinkled like tiny stars in the evening dusk.\"\n",
        "\n",
        "\"The playground was filled with the laughter of children.\"\n",
        "\n",
        "\"He carefully folded the map and tucked it into his pocket.\"\n",
        "\n",
        "\"The clouds formed whimsical shapes in the blue sky.\"\n",
        "\n",
        "\"She found a cozy spot by the lake to read her book.\"\n",
        "\n",
        "\"The bicycle ride through the park was invigorating.\"\n",
        "\n",
        "\"The old piano in the corner was covered in dust but still beautiful.\"\n",
        "\n",
        "\"The garden gnome had a mischievous smile.\"\n",
        "\n",
        "\"The sand felt warm beneath her feet as she walked along the beach.\"\n",
        "\n",
        "\"The snowflakes fell gently, creating a winter wonderland.\"\n",
        "\n",
        "\"He practiced his magic tricks in front of the mirror.\"\n",
        "\n",
        "\"The castle on the hill looked majestic in the morning mist.\"\n",
        "\n",
        "\"She carefully painted her nails a vibrant shade of red.\"\n",
        "\n",
        "\"The sunset painted the sky with hues of orange and pink.\"\n",
        "\n",
        "\"The dog curled up next to the fire and fell asleep.\"\n",
        "\n",
        "\"The old library had towering shelves filled with books.\"\n",
        "\n",
        "\"She wore a hat decorated with colorful feathers.\"\n",
        "\n",
        "\"The melody of the song lingered in her mind throughout the day.\"\n",
        "\n",
        "\"The garden was a haven for birds and butterflies.\"\n",
        "\n",
        "\"He discovered an interesting rock while hiking in the mountains.\"\n",
        "\n",
        "\"The vintage car had been lovingly restored to its former glory.\"\n",
        "]"
      ],
      "metadata": {
        "id": "_N4jATOvJOEq"
      },
      "execution_count": null,
      "outputs": []
    },
    {
      "cell_type": "markdown",
      "source": [
        "# **Tokenization & Preprocessing of Data**"
      ],
      "metadata": {
        "id": "XLIZR04Gl1we"
      }
    },
    {
      "cell_type": "code",
      "source": [
        "# Initialize the tokenizer\n",
        "tokenizer = Tokenizer()\n",
        "\n",
        "# Fit the tokenizer on the sentences\n",
        "tokenizer.fit_on_texts(sentences)\n",
        "\n",
        "# Get the total number of unique words (plus one for padding)\n",
        "total_words = len(tokenizer.word_index) + 1\n",
        "print(total_words)\n",
        "print(tokenizer.word_index)\n",
        "\n",
        "# Initialize a list to hold input sequences\n",
        "input_sequences = []\n",
        "\n",
        "# iterate over the sentences\n",
        "for line in sentences:\n",
        "    # Convert the sentence into a  sequence of integers\n",
        "    token_list = tokenizer.texts_to_sequences([line])[0]\n",
        "   # print(token_list)\n",
        "   # Create n-gram sequences from the sentence\n",
        "    for i in range(1, len(token_list)):\n",
        "        n_gram_sequence = token_list[:i+1]\n",
        "        input_sequences.append(n_gram_sequence)\n",
        "\n",
        "# Determine the maximum length sequence\n",
        "max_sequence_len = max([len(x) for x in input_sequences])\n",
        "\n",
        "# Pad sequences to ensure they are all the same length\n",
        "input_sequences = np.array(pad_sequences(input_sequences, maxlen=max_sequence_len, padding='pre'))\n",
        "print(input_sequences)\n"
      ],
      "metadata": {
        "colab": {
          "base_uri": "https://localhost:8080/"
        },
        "id": "iIH02vrll3HR",
        "outputId": "f8e45d2c-ebe3-416a-8e7a-c856c5c1cdad"
      },
      "execution_count": null,
      "outputs": [
        {
          "output_type": "stream",
          "name": "stdout",
          "text": [
            "487\n",
            "{'the': 1, 'a': 2, 'of': 3, 'and': 4, 'in': 5, 'she': 6, 'with': 7, 'he': 8, 'was': 9, 'on': 10, 'old': 11, 'her': 12, 'had': 13, 'his': 14, 'to': 15, 'an': 16, 'garden': 17, 'children': 18, 'filled': 19, 'through': 20, 'for': 21, 'found': 22, 'wore': 23, 'colorful': 24, 'sun': 25, 'book': 26, 'dog': 27, 'its': 28, 'as': 29, 'decorated': 30, 'against': 31, 'room': 32, 'while': 33, 'out': 34, 'sound': 35, 'by': 36, 'painted': 37, 'freshly': 38, 'wind': 39, 'window': 40, 'sky': 41, 'carefully': 42, 'enjoyed': 43, 'day': 44, 'looked': 45, 'afternoon': 46, 'hidden': 47, 'coffee': 48, 'man': 49, 'walked': 50, 'down': 51, 'street': 52, 'cake': 53, 'fresh': 54, 'cream': 55, 'night': 56, 'that': 57, 'discovered': 58, 'new': 59, 'vintage': 60, 'lavender': 61, 'quiet': 62, 'melody': 63, 'rustled': 64, 'train': 65, 'cozy': 66, 'reading': 67, 'fireplace': 68, 'across': 69, 'mountain': 70, 'at': 71, 'candles': 72, 'vibrant': 73, 'aroma': 74, 'passed': 75, 'gently': 76, 'lake': 77, 'letter': 78, 'friend': 79, 'lights': 80, 'played': 81, 'it': 82, 'warm': 83, 'stars': 84, 'baby': 85, 'scent': 86, 'beautiful': 87, 'beach': 88, 'library': 89, 'pages': 90, 'practiced': 91, 'evening': 92, 'fire': 93, 'covered': 94, 'like': 95, 'park': 96, 'been': 97, 'hot': 98, 'air': 99, 'map': 100, 'majestic': 101, 'fell': 102, 'cat': 103, 'slept': 104, 'windowsill': 105, 'basking': 106, 'note': 107, 'inside': 108, 'spilled': 109, 'staining': 110, 'tablecloth': 111, 'chased': 112, 'tail': 113, 'circles': 114, 'whistled': 115, 'tune': 116, 'strawberries': 117, 'forgot': 118, 'keys': 119, 'kitchen': 120, 'counter': 121, 'rain': 122, 'pitter': 123, 'pattered': 124, 'rooftop': 125, 'all': 126, 'they': 127, 'laughed': 128, 'together': 129, 'remembering': 130, 'their': 131, 'childhood': 132, 'adventures': 133, 'movie': 134, 'ended': 135, 'surprising': 136, 'plot': 137, 'twist': 138, 'bright': 139, 'yellow': 140, 'scarf': 141, 'caught': 142, 'everyone’s': 143, 'attention': 144, 'lighthouse': 145, 'stood': 146, 'tall': 147, 'stormy': 148, 'sea': 149, 'hobby': 150, 'collecting': 151, 'postcards': 152, 'full': 153, 'blooming': 154, 'roses': 155, 'clock': 156, 'wall': 157, 'ticked': 158, 'loudly': 159, 'hummed': 160, 'washing': 161, 'dishes': 162, 'built': 163, 'fort': 164, 'blankets': 165, 'pillows': 166, 'gentle': 167, 'breeze': 168, 'autumn': 169, 'leaves': 170, 'could': 171, 'hear': 172, 'distant': 173, 'whistle': 174, 'bookshop': 175, 'nook': 176, 'danced': 177, 'gracefully': 178, 'stage': 179, 'ballet': 180, 'shoes': 181, 'view': 182, 'breathtaking': 183, 'sunrise': 184, 'made': 185, 'wish': 186, 'blowing': 187, 'birthday': 188, 'artist': 189, 'colors': 190, 'onto': 191, 'canvas': 192, 'shop': 193, 'welcoming': 194, 'brewed': 195, 'beans': 196, 'photograph': 197, 'dusty': 198, 'attic': 199, 'box': 200, 'chimes': 201, 'tinkled': 202, 'softly': 203, 'fixed': 204, 'leaky': 205, 'faucet': 206, 'few': 207, 'twists': 208, 'wrench': 209, 'rainbows': 210, 'appeared': 211, 'after': 212, 'storm': 213, 'chef': 214, 'prepared': 215, 'gourmet': 216, 'meal': 217, 'exquisite': 218, 'precision': 219, 'little': 220, 'boat': 221, 'bobbed': 222, 'received': 223, 'from': 224, 'hadn’t': 225, 'seen': 226, 'years': 227, 'concert': 228, 'spectacular': 229, 'display': 230, 'kitten': 231, 'ball': 232, 'yarn': 233, 'living': 234, 'floor': 235, 'bakery': 236, 'pastries': 237, 'cakes': 238, 'favorite': 239, 'sweater': 240, 'even': 241, 'though': 242, 'outside': 243, 'shone': 244, 'brightly': 245, 'clear': 246, 'sang': 247, 'lullaby': 248, 'before': 249, 'bedtime': 250, 'carried': 251, 'pine': 252, 'forest': 253, 'told': 254, 'stories': 255, 'youth': 256, 'fascinated': 257, 'seashell': 258, 'silent': 259, 'except': 260, 'turning': 261, 'sketched': 262, 'portrait': 263, 'best': 264, 'notebook': 265, 'squirrel': 266, 'darted': 267, 'yard': 268, 'clutching': 269, 'acorn': 270, 'fog': 271, 'rolled': 272, 'enveloping': 273, 'landscape': 274, 'mystery': 275, 'guitar': 276, 'every': 277, 'porch': 278, 'crackled': 279, 'popped': 280, 'road': 281, 'trip': 282, 'took': 283, 'them': 284, 'stunning': 285, 'passes': 286, 'theater': 287, 'ornate': 288, 'architecture': 289, 'grand': 290, 'chandelier': 291, 'wrapped': 292, 'gift': 293, 'shiny': 294, 'paper': 295, 'bow': 296, 'snow': 297, 'ground': 298, 'soft': 299, 'white': 300, 'blanket': 301, 'fishing': 302, 'river': 303, 'artist’s': 304, 'studio': 305, 'cluttered': 306, 'paintbrushes': 307, 'canvases': 308, 'giggled': 309, 'toys': 310, 'lined': 311, 'charming': 312, 'cafes': 313, 'boutique': 314, 'shops': 315, 'cooked': 316, 'hearty': 317, 'stew': 318, 'cold': 319, 'winter’s': 320, 'open': 321, 'sounds': 322, 'playing': 323, 'relaxing': 324, 'bath': 325, 'scented': 326, 'barn': 327, 'rustic': 328, 'charm': 329, 'creaky': 330, 'door': 331, 'journey': 332, 'offered': 333, 'scenic': 334, 'views': 335, 'rolling': 336, 'hills': 337, 'necklace': 338, 'generations': 339, 'museum': 340, 'displayed': 341, 'ancient': 342, 'artifacts': 343, 'priceless': 344, 'paintings': 345, 'saw': 346, 'balloon': 347, 'cut': 348, 'grass': 349, 'barked': 350, 'excitedly': 351, 'sight': 352, 'owner': 353, 'recipe': 354, 'called': 355, 'pinch': 356, 'salt': 357, 'dash': 358, 'pepper': 359, 'admired': 360, 'intricate': 361, 'design': 362, 'stained': 363, 'glass': 364, 'ice': 365, 'melted': 366, 'quickly': 367, 'under': 368, 'gathered': 369, 'around': 370, 'storyteller': 371, 'magical': 372, 'tale': 373, 'showed': 374, 'treasures': 375, 'forgotten': 376, 'lands': 377, 'planted': 378, 'seeds': 379, 'hoped': 380, 'bountiful': 381, 'harvest': 382, 'bell': 383, 'rang': 384, 'signaling': 385, 'end': 386, 'school': 387, 'posters': 388, 'fairy': 389, 'baked': 390, 'bread': 391, 'wafted': 392, 'house': 393, 'detective': 394, 'novels': 395, 'rainy': 396, 'weekends': 397, 'picnic': 398, 'complete': 399, 'sandwiches': 400, 'fruit': 401, 'lemonade': 402, 'city': 403, 'skyline': 404, 'setting': 405, 'wrote': 406, 'heartfelt': 407, 'future': 408, 'self': 409, 'fireflies': 410, 'twinkled': 411, 'tiny': 412, 'dusk': 413, 'playground': 414, 'laughter': 415, 'folded': 416, 'tucked': 417, 'into': 418, 'pocket': 419, 'clouds': 420, 'formed': 421, 'whimsical': 422, 'shapes': 423, 'blue': 424, 'spot': 425, 'read': 426, 'bicycle': 427, 'ride': 428, 'invigorating': 429, 'piano': 430, 'corner': 431, 'dust': 432, 'but': 433, 'still': 434, 'gnome': 435, 'mischievous': 436, 'smile': 437, 'sand': 438, 'felt': 439, 'beneath': 440, 'feet': 441, 'along': 442, 'snowflakes': 443, 'creating': 444, 'winter': 445, 'wonderland': 446, 'magic': 447, 'tricks': 448, 'front': 449, 'mirror': 450, 'castle': 451, 'hill': 452, 'morning': 453, 'mist': 454, 'nails': 455, 'shade': 456, 'red': 457, 'sunset': 458, 'hues': 459, 'orange': 460, 'pink': 461, 'curled': 462, 'up': 463, 'next': 464, 'asleep': 465, 'towering': 466, 'shelves': 467, 'books': 468, 'hat': 469, 'feathers': 470, 'song': 471, 'lingered': 472, 'mind': 473, 'throughout': 474, 'haven': 475, 'birds': 476, 'butterflies': 477, 'interesting': 478, 'rock': 479, 'hiking': 480, 'mountains': 481, 'car': 482, 'lovingly': 483, 'restored': 484, 'former': 485, 'glory': 486}\n",
            "[[  0   0   0 ...   0   1 103]\n",
            " [  0   0   0 ...   1 103 104]\n",
            " [  0   0   0 ... 103 104  10]\n",
            " ...\n",
            " [  0   0   1 ... 484  15  28]\n",
            " [  0   1 103 ...  15  28 485]\n",
            " [  1 103 104 ...  28 485 486]]\n"
          ]
        }
      ]
    },
    {
      "cell_type": "markdown",
      "source": [
        "# **Data Preparation:**\n",
        "\n",
        "\n"
      ],
      "metadata": {
        "id": "PvS5rRgLmJHX"
      }
    },
    {
      "cell_type": "code",
      "source": [
        "# Split the data into inputs and labels\n",
        "\n",
        "# Inputs: All elements of the sequences except the one\n",
        "X=input_sequences[:,:-1]\n",
        "print(\"Input Data:\",X)\n",
        "\n",
        "# Labels: The last element each  sequences\n",
        "y=input_sequences[:,-1]\n",
        "# print(\"Labels:\",y)\n",
        "\n",
        "# Convert the labels to one-hot encoding format\n",
        "y = tf.keras.utils.to_categorical(y, num_classes=total_words)\n",
        "# print(\"one hot encoded Vector: \",y)"
      ],
      "metadata": {
        "colab": {
          "base_uri": "https://localhost:8080/"
        },
        "id": "5i-8H3c-mLPK",
        "outputId": "2141cee9-451f-4699-876a-8dabdbb5403d"
      },
      "execution_count": null,
      "outputs": [
        {
          "output_type": "stream",
          "name": "stdout",
          "text": [
            "Input Data: [[  0   0   0 ...   0   0   1]\n",
            " [  0   0   0 ...   0   1 103]\n",
            " [  0   0   0 ...   1 103 104]\n",
            " ...\n",
            " [  0   0   1 ... 483 484  15]\n",
            " [  0   1 103 ... 484  15  28]\n",
            " [  1 103 104 ...  15  28 485]]\n"
          ]
        }
      ]
    },
    {
      "cell_type": "markdown",
      "source": [
        "# **Defining the LSTM Model:**\n",
        "\n"
      ],
      "metadata": {
        "id": "-ZDl2Cxzmi_M"
      }
    },
    {
      "cell_type": "code",
      "source": [
        "# Define the LSTM model\n",
        "# Sequential Model allows stacking layers in a linear fashion\n",
        "model = Sequential([\n",
        "    # Embedding layer to represent words as dense vectors\n",
        "    # Input dimension is the total number of unique words,Ouptut dimension:\n",
        "    # Input length is the length of the sequence (excluding the last word)\n",
        "    Embedding(total_words, 100, input_length=max_sequence_len-1),\n",
        "\n",
        "    # LSTM layer with 30 units\n",
        "    # LSTM (Long Shor-Term Memory) is a type of RNN that can capture long-term dependencies\n",
        "    LSTM(100),\n",
        "\n",
        "    # Dense output layer with a softmax activation function\n",
        "    # Output dimension is the total number of unique words\n",
        "    # Softmax activation converts the output  to probabilities for each word\n",
        "\n",
        "    Dense(total_words, activation='softmax')\n",
        "])\n"
      ],
      "metadata": {
        "colab": {
          "base_uri": "https://localhost:8080/"
        },
        "id": "sL87TRCFnREW",
        "outputId": "48976271-8923-4758-a914-e3d0f34886f3"
      },
      "execution_count": null,
      "outputs": [
        {
          "output_type": "stream",
          "name": "stderr",
          "text": [
            "/usr/local/lib/python3.10/dist-packages/keras/src/layers/core/embedding.py:90: UserWarning: Argument `input_length` is deprecated. Just remove it.\n",
            "  warnings.warn(\n"
          ]
        }
      ]
    },
    {
      "cell_type": "markdown",
      "source": [
        "# **Compiling the Model**"
      ],
      "metadata": {
        "id": "p9XexGyav2-0"
      }
    },
    {
      "cell_type": "code",
      "source": [
        "# Compile the model\n",
        "model.compile(loss='categorical_crossentropy', optimizer='adam', metrics=['accuracy'])"
      ],
      "metadata": {
        "id": "SGRiyBWHwzFk"
      },
      "execution_count": null,
      "outputs": []
    },
    {
      "cell_type": "markdown",
      "source": [
        "# **Training the model**"
      ],
      "metadata": {
        "id": "EETG_vf4w1Wk"
      }
    },
    {
      "cell_type": "code",
      "source": [
        "# Train the model\n",
        "model.fit(X, y, epochs=50, verbose=1)"
      ],
      "metadata": {
        "colab": {
          "base_uri": "https://localhost:8080/"
        },
        "id": "d1uQYkABxEDu",
        "outputId": "35b57960-e39a-4159-c452-6ab29e8da122"
      },
      "execution_count": null,
      "outputs": [
        {
          "output_type": "stream",
          "name": "stdout",
          "text": [
            "Epoch 1/50\n",
            "\u001b[1m31/31\u001b[0m \u001b[32m━━━━━━━━━━━━━━━━━━━━\u001b[0m\u001b[37m\u001b[0m \u001b[1m27s\u001b[0m 881ms/step - accuracy: 0.1298 - loss: 5.3766\n",
            "Epoch 2/50\n",
            "\u001b[1m31/31\u001b[0m \u001b[32m━━━━━━━━━━━━━━━━━━━━\u001b[0m\u001b[37m\u001b[0m \u001b[1m41s\u001b[0m 878ms/step - accuracy: 0.1261 - loss: 5.3253\n",
            "Epoch 3/50\n",
            "\u001b[1m31/31\u001b[0m \u001b[32m━━━━━━━━━━━━━━━━━━━━\u001b[0m\u001b[37m\u001b[0m \u001b[1m41s\u001b[0m 866ms/step - accuracy: 0.1263 - loss: 5.2487\n",
            "Epoch 4/50\n",
            "\u001b[1m31/31\u001b[0m \u001b[32m━━━━━━━━━━━━━━━━━━━━\u001b[0m\u001b[37m\u001b[0m \u001b[1m27s\u001b[0m 873ms/step - accuracy: 0.1325 - loss: 5.1298\n",
            "Epoch 5/50\n",
            "\u001b[1m31/31\u001b[0m \u001b[32m━━━━━━━━━━━━━━━━━━━━\u001b[0m\u001b[37m\u001b[0m \u001b[1m41s\u001b[0m 849ms/step - accuracy: 0.1349 - loss: 4.9518\n",
            "Epoch 6/50\n",
            "\u001b[1m31/31\u001b[0m \u001b[32m━━━━━━━━━━━━━━━━━━━━\u001b[0m\u001b[37m\u001b[0m \u001b[1m41s\u001b[0m 880ms/step - accuracy: 0.1346 - loss: 4.8869\n",
            "Epoch 7/50\n",
            "\u001b[1m31/31\u001b[0m \u001b[32m━━━━━━━━━━━━━━━━━━━━\u001b[0m\u001b[37m\u001b[0m \u001b[1m41s\u001b[0m 869ms/step - accuracy: 0.1323 - loss: 4.8574\n",
            "Epoch 8/50\n",
            "\u001b[1m31/31\u001b[0m \u001b[32m━━━━━━━━━━━━━━━━━━━━\u001b[0m\u001b[37m\u001b[0m \u001b[1m27s\u001b[0m 869ms/step - accuracy: 0.1519 - loss: 4.7794\n",
            "Epoch 9/50\n",
            "\u001b[1m31/31\u001b[0m \u001b[32m━━━━━━━━━━━━━━━━━━━━\u001b[0m\u001b[37m\u001b[0m \u001b[1m27s\u001b[0m 869ms/step - accuracy: 0.1566 - loss: 4.5952\n",
            "Epoch 10/50\n",
            "\u001b[1m31/31\u001b[0m \u001b[32m━━━━━━━━━━━━━━━━━━━━\u001b[0m\u001b[37m\u001b[0m \u001b[1m27s\u001b[0m 865ms/step - accuracy: 0.1846 - loss: 4.5314\n",
            "Epoch 11/50\n",
            "\u001b[1m31/31\u001b[0m \u001b[32m━━━━━━━━━━━━━━━━━━━━\u001b[0m\u001b[37m\u001b[0m \u001b[1m28s\u001b[0m 894ms/step - accuracy: 0.2071 - loss: 4.3196\n",
            "Epoch 12/50\n",
            "\u001b[1m31/31\u001b[0m \u001b[32m━━━━━━━━━━━━━━━━━━━━\u001b[0m\u001b[37m\u001b[0m \u001b[1m41s\u001b[0m 879ms/step - accuracy: 0.2110 - loss: 4.2573\n",
            "Epoch 13/50\n",
            "\u001b[1m31/31\u001b[0m \u001b[32m━━━━━━━━━━━━━━━━━━━━\u001b[0m\u001b[37m\u001b[0m \u001b[1m41s\u001b[0m 874ms/step - accuracy: 0.2158 - loss: 4.1311\n",
            "Epoch 14/50\n",
            "\u001b[1m31/31\u001b[0m \u001b[32m━━━━━━━━━━━━━━━━━━━━\u001b[0m\u001b[37m\u001b[0m \u001b[1m41s\u001b[0m 876ms/step - accuracy: 0.2159 - loss: 4.0609\n",
            "Epoch 15/50\n",
            "\u001b[1m31/31\u001b[0m \u001b[32m━━━━━━━━━━━━━━━━━━━━\u001b[0m\u001b[37m\u001b[0m \u001b[1m41s\u001b[0m 879ms/step - accuracy: 0.2132 - loss: 4.0988\n",
            "Epoch 16/50\n",
            "\u001b[1m31/31\u001b[0m \u001b[32m━━━━━━━━━━━━━━━━━━━━\u001b[0m\u001b[37m\u001b[0m \u001b[1m41s\u001b[0m 879ms/step - accuracy: 0.2459 - loss: 3.8299\n",
            "Epoch 17/50\n",
            "\u001b[1m31/31\u001b[0m \u001b[32m━━━━━━━━━━━━━━━━━━━━\u001b[0m\u001b[37m\u001b[0m \u001b[1m41s\u001b[0m 848ms/step - accuracy: 0.2649 - loss: 3.7636\n",
            "Epoch 18/50\n",
            "\u001b[1m31/31\u001b[0m \u001b[32m━━━━━━━━━━━━━━━━━━━━\u001b[0m\u001b[37m\u001b[0m \u001b[1m27s\u001b[0m 857ms/step - accuracy: 0.2776 - loss: 3.6202\n",
            "Epoch 19/50\n",
            "\u001b[1m31/31\u001b[0m \u001b[32m━━━━━━━━━━━━━━━━━━━━\u001b[0m\u001b[37m\u001b[0m \u001b[1m41s\u001b[0m 861ms/step - accuracy: 0.2774 - loss: 3.5590\n",
            "Epoch 20/50\n",
            "\u001b[1m31/31\u001b[0m \u001b[32m━━━━━━━━━━━━━━━━━━━━\u001b[0m\u001b[37m\u001b[0m \u001b[1m41s\u001b[0m 870ms/step - accuracy: 0.2879 - loss: 3.4803\n",
            "Epoch 21/50\n",
            "\u001b[1m31/31\u001b[0m \u001b[32m━━━━━━━━━━━━━━━━━━━━\u001b[0m\u001b[37m\u001b[0m \u001b[1m41s\u001b[0m 879ms/step - accuracy: 0.2885 - loss: 3.4578\n",
            "Epoch 22/50\n",
            "\u001b[1m31/31\u001b[0m \u001b[32m━━━━━━━━━━━━━━━━━━━━\u001b[0m\u001b[37m\u001b[0m \u001b[1m27s\u001b[0m 886ms/step - accuracy: 0.3307 - loss: 3.2203\n",
            "Epoch 23/50\n",
            "\u001b[1m31/31\u001b[0m \u001b[32m━━━━━━━━━━━━━━━━━━━━\u001b[0m\u001b[37m\u001b[0m \u001b[1m41s\u001b[0m 881ms/step - accuracy: 0.3191 - loss: 3.2652\n",
            "Epoch 24/50\n",
            "\u001b[1m31/31\u001b[0m \u001b[32m━━━━━━━━━━━━━━━━━━━━\u001b[0m\u001b[37m\u001b[0m \u001b[1m41s\u001b[0m 879ms/step - accuracy: 0.3010 - loss: 3.2763\n",
            "Epoch 25/50\n",
            "\u001b[1m31/31\u001b[0m \u001b[32m━━━━━━━━━━━━━━━━━━━━\u001b[0m\u001b[37m\u001b[0m \u001b[1m27s\u001b[0m 869ms/step - accuracy: 0.3352 - loss: 3.0385\n",
            "Epoch 26/50\n",
            "\u001b[1m31/31\u001b[0m \u001b[32m━━━━━━━━━━━━━━━━━━━━\u001b[0m\u001b[37m\u001b[0m \u001b[1m41s\u001b[0m 882ms/step - accuracy: 0.3469 - loss: 3.0225\n",
            "Epoch 27/50\n",
            "\u001b[1m31/31\u001b[0m \u001b[32m━━━━━━━━━━━━━━━━━━━━\u001b[0m\u001b[37m\u001b[0m \u001b[1m41s\u001b[0m 851ms/step - accuracy: 0.3472 - loss: 2.9730\n",
            "Epoch 28/50\n",
            "\u001b[1m31/31\u001b[0m \u001b[32m━━━━━━━━━━━━━━━━━━━━\u001b[0m\u001b[37m\u001b[0m \u001b[1m40s\u001b[0m 843ms/step - accuracy: 0.4160 - loss: 2.7408\n",
            "Epoch 29/50\n",
            "\u001b[1m31/31\u001b[0m \u001b[32m━━━━━━━━━━━━━━━━━━━━\u001b[0m\u001b[37m\u001b[0m \u001b[1m42s\u001b[0m 880ms/step - accuracy: 0.4214 - loss: 2.6658\n",
            "Epoch 30/50\n",
            "\u001b[1m31/31\u001b[0m \u001b[32m━━━━━━━━━━━━━━━━━━━━\u001b[0m\u001b[37m\u001b[0m \u001b[1m41s\u001b[0m 873ms/step - accuracy: 0.4401 - loss: 2.6795\n",
            "Epoch 31/50\n",
            "\u001b[1m31/31\u001b[0m \u001b[32m━━━━━━━━━━━━━━━━━━━━\u001b[0m\u001b[37m\u001b[0m \u001b[1m41s\u001b[0m 875ms/step - accuracy: 0.4569 - loss: 2.4423\n",
            "Epoch 32/50\n",
            "\u001b[1m31/31\u001b[0m \u001b[32m━━━━━━━━━━━━━━━━━━━━\u001b[0m\u001b[37m\u001b[0m \u001b[1m41s\u001b[0m 869ms/step - accuracy: 0.4902 - loss: 2.4824\n",
            "Epoch 33/50\n",
            "\u001b[1m31/31\u001b[0m \u001b[32m━━━━━━━━━━━━━━━━━━━━\u001b[0m\u001b[37m\u001b[0m \u001b[1m41s\u001b[0m 870ms/step - accuracy: 0.5158 - loss: 2.3930\n",
            "Epoch 34/50\n",
            "\u001b[1m31/31\u001b[0m \u001b[32m━━━━━━━━━━━━━━━━━━━━\u001b[0m\u001b[37m\u001b[0m \u001b[1m41s\u001b[0m 843ms/step - accuracy: 0.5684 - loss: 2.2522\n",
            "Epoch 35/50\n",
            "\u001b[1m31/31\u001b[0m \u001b[32m━━━━━━━━━━━━━━━━━━━━\u001b[0m\u001b[37m\u001b[0m \u001b[1m41s\u001b[0m 880ms/step - accuracy: 0.5650 - loss: 2.2645\n",
            "Epoch 36/50\n",
            "\u001b[1m31/31\u001b[0m \u001b[32m━━━━━━━━━━━━━━━━━━━━\u001b[0m\u001b[37m\u001b[0m \u001b[1m27s\u001b[0m 875ms/step - accuracy: 0.6020 - loss: 2.1823\n",
            "Epoch 37/50\n",
            "\u001b[1m31/31\u001b[0m \u001b[32m━━━━━━━━━━━━━━━━━━━━\u001b[0m\u001b[37m\u001b[0m \u001b[1m41s\u001b[0m 874ms/step - accuracy: 0.6265 - loss: 2.0857\n",
            "Epoch 38/50\n",
            "\u001b[1m31/31\u001b[0m \u001b[32m━━━━━━━━━━━━━━━━━━━━\u001b[0m\u001b[37m\u001b[0m \u001b[1m27s\u001b[0m 870ms/step - accuracy: 0.6540 - loss: 1.9845\n",
            "Epoch 39/50\n",
            "\u001b[1m31/31\u001b[0m \u001b[32m━━━━━━━━━━━━━━━━━━━━\u001b[0m\u001b[37m\u001b[0m \u001b[1m41s\u001b[0m 880ms/step - accuracy: 0.6585 - loss: 1.9602\n",
            "Epoch 40/50\n",
            "\u001b[1m31/31\u001b[0m \u001b[32m━━━━━━━━━━━━━━━━━━━━\u001b[0m\u001b[37m\u001b[0m \u001b[1m27s\u001b[0m 886ms/step - accuracy: 0.6997 - loss: 1.9008\n",
            "Epoch 41/50\n",
            "\u001b[1m31/31\u001b[0m \u001b[32m━━━━━━━━━━━━━━━━━━━━\u001b[0m\u001b[37m\u001b[0m \u001b[1m41s\u001b[0m 873ms/step - accuracy: 0.7061 - loss: 1.8107\n",
            "Epoch 42/50\n",
            "\u001b[1m31/31\u001b[0m \u001b[32m━━━━━━━━━━━━━━━━━━━━\u001b[0m\u001b[37m\u001b[0m \u001b[1m27s\u001b[0m 882ms/step - accuracy: 0.7432 - loss: 1.7262\n",
            "Epoch 43/50\n",
            "\u001b[1m31/31\u001b[0m \u001b[32m━━━━━━━━━━━━━━━━━━━━\u001b[0m\u001b[37m\u001b[0m \u001b[1m41s\u001b[0m 877ms/step - accuracy: 0.7781 - loss: 1.6926\n",
            "Epoch 44/50\n",
            "\u001b[1m31/31\u001b[0m \u001b[32m━━━━━━━━━━━━━━━━━━━━\u001b[0m\u001b[37m\u001b[0m \u001b[1m41s\u001b[0m 871ms/step - accuracy: 0.7720 - loss: 1.6039\n",
            "Epoch 45/50\n",
            "\u001b[1m31/31\u001b[0m \u001b[32m━━━━━━━━━━━━━━━━━━━━\u001b[0m\u001b[37m\u001b[0m \u001b[1m41s\u001b[0m 838ms/step - accuracy: 0.7852 - loss: 1.5181\n",
            "Epoch 46/50\n",
            "\u001b[1m31/31\u001b[0m \u001b[32m━━━━━━━━━━━━━━━━━━━━\u001b[0m\u001b[37m\u001b[0m \u001b[1m41s\u001b[0m 872ms/step - accuracy: 0.8032 - loss: 1.5043\n",
            "Epoch 47/50\n",
            "\u001b[1m31/31\u001b[0m \u001b[32m━━━━━━━━━━━━━━━━━━━━\u001b[0m\u001b[37m\u001b[0m \u001b[1m41s\u001b[0m 873ms/step - accuracy: 0.8241 - loss: 1.3822\n",
            "Epoch 48/50\n",
            "\u001b[1m31/31\u001b[0m \u001b[32m━━━━━━━━━━━━━━━━━━━━\u001b[0m\u001b[37m\u001b[0m \u001b[1m41s\u001b[0m 870ms/step - accuracy: 0.8366 - loss: 1.3688\n",
            "Epoch 49/50\n",
            "\u001b[1m31/31\u001b[0m \u001b[32m━━━━━━━━━━━━━━━━━━━━\u001b[0m\u001b[37m\u001b[0m \u001b[1m41s\u001b[0m 874ms/step - accuracy: 0.8549 - loss: 1.2868\n",
            "Epoch 50/50\n",
            "\u001b[1m31/31\u001b[0m \u001b[32m━━━━━━━━━━━━━━━━━━━━\u001b[0m\u001b[37m\u001b[0m \u001b[1m27s\u001b[0m 869ms/step - accuracy: 0.8627 - loss: 1.2126\n"
          ]
        },
        {
          "output_type": "execute_result",
          "data": {
            "text/plain": [
              "<keras.src.callbacks.history.History at 0x7c794fc8b970>"
            ]
          },
          "metadata": {},
          "execution_count": 17
        }
      ]
    },
    {
      "cell_type": "markdown",
      "source": [
        "# **Next Word Predication**\n",
        "**Seed Text Converstion:**\\\n",
        "**Padding:** \\\n",
        "**Predication:**\\\n",
        "**Selection and Update:**\\\n",
        "**Iterative Predictioin:**\n"
      ],
      "metadata": {
        "id": "iQGOMy6oBInp"
      }
    },
    {
      "cell_type": "code",
      "source": [
        "# Function to predict the next word(s) given a seed text\n",
        "def predict_next_word(seed_text, next_words=1):  # Here if next_words=1 we will get only one word,if next_words=2 we will get 2 words\n",
        "    for _ in range(next_words):\n",
        "        # Convert the seed text into a sequence of integers\n",
        "        token_list = tokenizer.texts_to_sequences([seed_text])[0]\n",
        "\n",
        "        # Pad the sequence to match the input length required by the model\n",
        "        token_list= pad_sequences([token_list], maxlen=max_sequence_len-1, padding='pre')\n",
        "\n",
        "        # Predict the probability distribution of the next word\n",
        "        predicted = model.predict(token_list, verbose=0)\n",
        "\n",
        "        # Get the index of the predicted word ,with the highest probability\n",
        "        predicted_word_index = np.argmax(predicted, axis=1)[0]\n",
        "\n",
        "        #Retrieve the word corresponding to the predicted index\n",
        "        predicted_word=tokenizer.index_word[predicted_word_index]\n",
        "\n",
        "        # Append the predicted word to the seed text\n",
        "        seed_text += \" \" + predicted_word\n",
        "        # Return the updated seed text with the predicted word\n",
        "        return seed_text"
      ],
      "metadata": {
        "id": "NEsCJsZxH-iZ"
      },
      "execution_count": null,
      "outputs": []
    },
    {
      "cell_type": "markdown",
      "source": [
        "# **Test prediction**"
      ],
      "metadata": {
        "id": "PRae-WmlIlZ-"
      }
    },
    {
      "cell_type": "code",
      "source": [
        "# Test the prediction function with  a sample input\n",
        "print(predict_next_word('She found a'))"
      ],
      "metadata": {
        "colab": {
          "base_uri": "https://localhost:8080/"
        },
        "id": "3pj6hnWQIddG",
        "outputId": "513b959c-6b48-4387-fa9d-ad249c09396e"
      },
      "execution_count": null,
      "outputs": [
        {
          "output_type": "stream",
          "name": "stdout",
          "text": [
            "She found a cat\n"
          ]
        }
      ]
    }
  ]
}